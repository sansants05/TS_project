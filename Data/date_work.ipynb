{
  "cells": [
    {
      "cell_type": "code",
      "execution_count": 3,
      "metadata": {
        "id": "Nlbb2wsyEUVl"
      },
      "outputs": [],
      "source": [
        "import pandas as pd\n",
        "import yfinance as yf\n",
        "import requests\n",
        "from datetime import datetime, timedelta\n"
      ]
    },
    {
      "cell_type": "markdown",
      "metadata": {
        "id": "F5GPPPN-JzrA"
      },
      "source": [
        "Индекс Moex"
      ]
    },
    {
      "cell_type": "code",
      "execution_count": 4,
      "metadata": {
        "colab": {
          "base_uri": "https://localhost:8080/"
        },
        "id": "1SnuGBkWCanx",
        "outputId": "0f0c208e-07f7-4907-d3b0-8f4b68fce494"
      },
      "outputs": [
        {
          "name": "stdout",
          "output_type": "stream",
          "text": [
            "            date    CLOSE\n",
            "0     2017-01-01     0.00\n",
            "1     2017-01-02     0.00\n",
            "2     2017-01-03  2285.43\n",
            "3     2017-01-04  2263.90\n",
            "4     2017-01-05  2220.35\n",
            "...          ...      ...\n",
            "1821  2021-12-27  3740.63\n",
            "1822  2021-12-28  3777.56\n",
            "1823  2021-12-29  3741.07\n",
            "1824  2021-12-30  3787.26\n",
            "1825  2021-12-31     0.00\n",
            "\n",
            "[1826 rows x 2 columns]\n"
          ]
        },
        {
          "name": "stderr",
          "output_type": "stream",
          "text": [
            "/var/folders/6c/xwwfz00d3rsbq6g8ymk8cmjc0000gn/T/ipykernel_81428/3585956794.py:31: FutureWarning: The behavior of DataFrame concatenation with empty or all-NA entries is deprecated. In a future version, this will no longer exclude empty or all-NA columns when determining the result dtypes. To retain the old behavior, exclude the relevant entries before the concat operation.\n",
            "  imoex_df = pd.concat(all_records, ignore_index=True)\n",
            "/var/folders/6c/xwwfz00d3rsbq6g8ymk8cmjc0000gn/T/ipykernel_81428/3585956794.py:52: FutureWarning: A value is trying to be set on a copy of a DataFrame or Series through chained assignment using an inplace method.\n",
            "The behavior will change in pandas 3.0. This inplace method will never work because the intermediate object on which we are setting values always behaves as a copy.\n",
            "\n",
            "For example, when doing 'df[col].method(value, inplace=True)', try using 'df.method({col: value}, inplace=True)' or df[col] = df[col].method(value) instead, to perform the operation inplace on the original object.\n",
            "\n",
            "\n",
            "  full_df['CLOSE'].fillna(0, inplace=True)\n"
          ]
        }
      ],
      "source": [
        "import requests\n",
        "import pandas as pd\n",
        "\n",
        "url = \"https://iss.moex.com/iss/history/engines/stock/markets/index/boards/SNDX/securities/IMOEX.json\"\n",
        "\n",
        "params = {\n",
        "    'from': '2017-01-01',\n",
        "    'till': '2021-12-31',\n",
        "    'start': 0\n",
        "}\n",
        "\n",
        "all_records = []\n",
        "\n",
        "while True:\n",
        "    response = requests.get(url, params=params)\n",
        "    data = response.json()\n",
        "\n",
        "    columns = data['history']['columns']\n",
        "    rows = data['history']['data']\n",
        "\n",
        "    if not rows:\n",
        "        break\n",
        "\n",
        "    df = pd.DataFrame(rows, columns=columns)\n",
        "    all_records.append(df)\n",
        "\n",
        "    # Следующая страница\n",
        "    params['start'] += 100\n",
        "\n",
        "# Объединяем все страницы\n",
        "imoex_df = pd.concat(all_records, ignore_index=True)\n",
        "\n",
        "# Оставляем нужные столбцы\n",
        "imoex_df = imoex_df[['TRADEDATE', 'CLOSE']]\n",
        "\n",
        "# Переименовываем столбец\n",
        "imoex_df = imoex_df.rename(columns={'TRADEDATE': 'date'})\n",
        "\n",
        "# Сортируем по дате\n",
        "imoex_df['date'] = pd.to_datetime(imoex_df['date'])\n",
        "imoex_df = imoex_df.sort_values('date')\n",
        "\n",
        "# Создаём список всех дат с 01.01.2017 по 31.12.2021\n",
        "all_dates = pd.date_range(start='2017-01-01', end='2021-12-31', freq='D')\n",
        "\n",
        "# Индексируем DataFrame по дате\n",
        "imoex_df.set_index('date', inplace=True)\n",
        "\n",
        "# Пересоздаём DataFrame с полным диапазоном дат и заполняем пропуски значением 0\n",
        "full_df = pd.DataFrame(index=all_dates)\n",
        "full_df = full_df.join(imoex_df, how='left')\n",
        "full_df['CLOSE'].fillna(0, inplace=True)\n",
        "\n",
        "# Сбрасываем индекс, чтобы дата была столбцом\n",
        "full_df.reset_index(inplace=True)\n",
        "full_df.rename(columns={'index': 'date'}, inplace=True)\n",
        "full_df['date'] = full_df['date'].astype('object')\n",
        "full_df['date'] = pd.to_datetime(full_df['date']).dt.strftime('%Y-%m-%d')\n",
        "# Сохраним в CSV\n",
        "imoex_df.to_csv('imoex_2017_2021.csv', index=False, encoding='utf-8')\n",
        "\n",
        "print(full_df)\n"
      ]
    },
    {
      "cell_type": "markdown",
      "metadata": {
        "id": "GbGqGaJXJ3FW"
      },
      "source": [
        "Курс доллара"
      ]
    },
    {
      "cell_type": "code",
      "execution_count": 5,
      "metadata": {
        "colab": {
          "base_uri": "https://localhost:8080/"
        },
        "id": "dkv_Nk4GF71j",
        "outputId": "8ceb3485-f515-4684-b1aa-c94329646af5"
      },
      "outputs": [
        {
          "name": "stdout",
          "output_type": "stream",
          "text": [
            "YF.download() has changed argument auto_adjust default to True\n"
          ]
        },
        {
          "name": "stderr",
          "output_type": "stream",
          "text": [
            "[*********************100%***********************]  1 of 1 completed"
          ]
        },
        {
          "name": "stdout",
          "output_type": "stream",
          "text": [
            "         date   USD_Rate\n",
            "0  2017-01-02  61.231300\n",
            "1  2017-01-03  61.228298\n",
            "2  2017-01-04  60.923000\n",
            "3  2017-01-05  60.365002\n",
            "4  2017-01-06  59.401199\n"
          ]
        },
        {
          "name": "stderr",
          "output_type": "stream",
          "text": [
            "\n"
          ]
        }
      ],
      "source": [
        "data = yf.download(\"USDRUB=X\", start=\"2017-01-01\", end=\"2021-12-31\")\n",
        "df_data = data[['Close']].reset_index()\n",
        "df_data.columns = ['date', 'USD_Rate']\n",
        "df_data['date'] = pd.to_datetime(df_data['date']).dt.strftime('%Y-%m-%d')\n",
        "\n",
        "print(df_data.head())\n",
        "\n",
        "df_data.to_csv(\"usd_rub_2017_2021.csv\", index=False)\n"
      ]
    },
    {
      "cell_type": "markdown",
      "metadata": {
        "id": "sLdy5CO6Mdra"
      },
      "source": [
        "Инфляция"
      ]
    },
    {
      "cell_type": "code",
      "execution_count": 6,
      "metadata": {
        "colab": {
          "base_uri": "https://localhost:8080/"
        },
        "id": "Mi5vN3rQMuZq",
        "outputId": "670b18cc-3858-4514-a6cf-d367b1ebef51"
      },
      "outputs": [
        {
          "name": "stdout",
          "output_type": "stream",
          "text": [
            "Результаты сохранены в файл 'inflation_rate_daily_2017_2021.csv'\n"
          ]
        }
      ],
      "source": [
        "def get_inflation_rate(year):\n",
        "    url = f\"http://api.worldbank.org/v2/country/RU/indicator/FP.CPI.TOTL.ZG?date={year}&format=json\"\n",
        "    response = requests.get(url)\n",
        "    if response.status_code == 200:\n",
        "        data = response.json()\n",
        "        for entry in data[1]:\n",
        "            if entry['date'] == str(year):\n",
        "                return entry['value']\n",
        "    return None\n",
        "\n",
        "def generate_daily_inflation_rate(start_year, end_year):\n",
        "    all_data = []\n",
        "\n",
        "\n",
        "    for year in range(start_year, end_year + 1):\n",
        "        inflation_rate = get_inflation_rate(year)\n",
        "        if inflation_rate is not None:\n",
        "\n",
        "            is_leap_year = (year % 4 == 0 and (year % 100 != 0 or year % 400 == 0))\n",
        "            days_in_year = 366 if is_leap_year else 365\n",
        "\n",
        "\n",
        "            start_date = datetime(year, 1, 1)\n",
        "            for day in range(days_in_year):\n",
        "                date = start_date + timedelta(days=day)\n",
        "                all_data.append({\n",
        "                    'date': date.strftime('%Y-%m-%d'),\n",
        "                    'inflation_rate': inflation_rate\n",
        "                })\n",
        "\n",
        "\n",
        "    df = pd.DataFrame(all_data)\n",
        "    return df\n",
        "\n",
        "\n",
        "df_daily_inflation_rate = generate_daily_inflation_rate(2017, 2021)\n",
        "\n",
        "\n",
        "df_daily_inflation_rate.to_csv('inflation_rate_daily_2017_2021.csv', index=False)\n",
        "\n",
        "\n",
        "print(\"Результаты сохранены в файл 'inflation_rate_daily_2017_2021.csv'\")\n"
      ]
    },
    {
      "cell_type": "markdown",
      "metadata": {
        "id": "iQ5YFnxuONOS"
      },
      "source": [
        "Торговый баланс ( ТБ = экспорт - импорт)"
      ]
    },
    {
      "cell_type": "code",
      "execution_count": 7,
      "metadata": {
        "colab": {
          "base_uri": "https://localhost:8080/"
        },
        "id": "7BkVInhYOkrP",
        "outputId": "a7ef9b49-7012-4ade-b23b-ba28b97df94f"
      },
      "outputs": [
        {
          "name": "stdout",
          "output_type": "stream",
          "text": [
            "Результаты сохранены в файл 'trade_balance_daily_2017_2021.csv'\n"
          ]
        }
      ],
      "source": [
        "\n",
        "def get_trade_balance(year):\n",
        "\n",
        "    export_url = f\"http://api.worldbank.org/v2/country/RU/indicator/NE.EXP.GNFS.CD?date={year}&format=json\"\n",
        "    export_response = requests.get(export_url)\n",
        "    if export_response.status_code == 200:\n",
        "        export_data = export_response.json()\n",
        "        for entry in export_data[1]:\n",
        "            if entry['date'] == str(year):\n",
        "                export_value = entry['value']\n",
        "    else:\n",
        "        return None\n",
        "\n",
        "\n",
        "    import_url = f\"http://api.worldbank.org/v2/country/RU/indicator/NE.IMP.GNFS.CD?date={year}&format=json\"\n",
        "    import_response = requests.get(import_url)\n",
        "    if import_response.status_code == 200:\n",
        "        import_data = import_response.json()\n",
        "        for entry in import_data[1]:\n",
        "            if entry['date'] == str(year):\n",
        "                import_value = entry['value']\n",
        "    else:\n",
        "        return None\n",
        "\n",
        "\n",
        "    if export_value is not None and import_value is not None:\n",
        "        trade_balance = export_value - import_value\n",
        "        return trade_balance\n",
        "    return None\n",
        "\n",
        "\n",
        "def generate_daily_trade_balance(start_year, end_year):\n",
        "    all_data = []\n",
        "\n",
        "\n",
        "    for year in range(start_year, end_year + 1):\n",
        "        trade_balance = get_trade_balance(year)\n",
        "        if trade_balance is not None:\n",
        "\n",
        "            is_leap_year = (year % 4 == 0 and (year % 100 != 0 or year % 400 == 0))\n",
        "            days_in_year = 366 if is_leap_year else 365\n",
        "\n",
        "\n",
        "            start_date = datetime(year, 1, 1)\n",
        "            for day in range(days_in_year):\n",
        "                date = start_date + timedelta(days=day)\n",
        "                all_data.append({\n",
        "                    'date': date.strftime('%Y-%m-%d'),\n",
        "                    'trade_balance': trade_balance\n",
        "                })\n",
        "\n",
        "\n",
        "    df = pd.DataFrame(all_data)\n",
        "    return df\n",
        "\n",
        "\n",
        "df_daily_trade_balance = generate_daily_trade_balance(2017, 2021)\n",
        "\n",
        "\n",
        "df_daily_trade_balance.to_csv('trade_balance_daily_2017_2021.csv', index=False)\n",
        "\n",
        "\n",
        "print(\"Результаты сохранены в файл 'trade_balance_daily_2017_2021.csv'\")\n"
      ]
    },
    {
      "cell_type": "markdown",
      "metadata": {
        "id": "idod9qhsbX-p"
      },
      "source": [
        "уровень безработицы"
      ]
    },
    {
      "cell_type": "code",
      "execution_count": 8,
      "metadata": {
        "colab": {
          "base_uri": "https://localhost:8080/"
        },
        "id": "I217Z16VbXi7",
        "outputId": "00683397-3e22-455f-bcd5-8e7d9e19732d"
      },
      "outputs": [
        {
          "name": "stdout",
          "output_type": "stream",
          "text": [
            "Результаты сохранены в файл 'unemployment_rate_daily_2017_2021.csv'\n"
          ]
        }
      ],
      "source": [
        "def get_unemployment_rate(year):\n",
        "    url = f\"http://api.worldbank.org/v2/country/RU/indicator/SL.UEM.TOTL.ZS?date={year}&format=json\"\n",
        "    response = requests.get(url)\n",
        "    if response.status_code == 200:\n",
        "        data = response.json()\n",
        "        for entry in data[1]:\n",
        "            if entry['date'] == str(year):\n",
        "                return entry['value']\n",
        "    return None\n",
        "\n",
        "\n",
        "def generate_daily_unemployment_rate(start_year, end_year):\n",
        "    all_data = []\n",
        "\n",
        "\n",
        "    for year in range(start_year, end_year + 1):\n",
        "        unemployment_rate = get_unemployment_rate(year)\n",
        "        if unemployment_rate is not None:\n",
        "\n",
        "            is_leap_year = (year % 4 == 0 and (year % 100 != 0 or year % 400 == 0))\n",
        "            days_in_year = 366 if is_leap_year else 365\n",
        "\n",
        "\n",
        "            start_date = datetime(year, 1, 1)\n",
        "            for day in range(days_in_year):\n",
        "                date = start_date + timedelta(days=day)\n",
        "                all_data.append({\n",
        "                    'date': date.strftime('%Y-%m-%d'),\n",
        "                    'unemployment_rate': unemployment_rate\n",
        "                })\n",
        "\n",
        "\n",
        "    df = pd.DataFrame(all_data)\n",
        "    return df\n",
        "\n",
        "\n",
        "df_daily_unemployment_rate = generate_daily_unemployment_rate(2017, 2021)\n",
        "df_daily_unemployment_rate.to_csv('unemployment_rate_daily_2017_2021.csv', index=False)\n",
        "\n",
        "print(\"Результаты сохранены в файл 'unemployment_rate_daily_2017_2021.csv'\")\n"
      ]
    },
    {
      "cell_type": "markdown",
      "metadata": {
        "id": "0RxlaG2dlpbF"
      },
      "source": [
        "ввп на душу населения"
      ]
    },
    {
      "cell_type": "code",
      "execution_count": 9,
      "metadata": {
        "colab": {
          "base_uri": "https://localhost:8080/"
        },
        "id": "tsaZ3CMtlhLl",
        "outputId": "592c2cae-e20a-431b-c2d4-af203439af39"
      },
      "outputs": [
        {
          "name": "stdout",
          "output_type": "stream",
          "text": [
            "Результаты сохранены в файл 'gdp_per_capita_daily_2017_2021.csv'\n"
          ]
        }
      ],
      "source": [
        "def get_gdp_per_capita(year):\n",
        "    url = f\"http://api.worldbank.org/v2/country/RU/indicator/NY.GDP.PCAP.CD?date={year}&format=json\"\n",
        "    response = requests.get(url)\n",
        "    if response.status_code == 200:\n",
        "        data = response.json()\n",
        "        for entry in data[1]:\n",
        "            if entry['date'] == str(year):\n",
        "                return entry['value']\n",
        "    return None\n",
        "\n",
        "def generate_daily_gdp_per_capita(start_year, end_year):\n",
        "    all_data = []\n",
        "\n",
        "\n",
        "    for year in range(start_year, end_year + 1):\n",
        "        gdp_per_capita = get_gdp_per_capita(year)\n",
        "        if gdp_per_capita is not None:\n",
        "\n",
        "            is_leap_year = (year % 4 == 0 and (year % 100 != 0 or year % 400 == 0))\n",
        "            days_in_year = 366 if is_leap_year else 365\n",
        "\n",
        "\n",
        "            start_date = datetime(year, 1, 1)\n",
        "            for day in range(days_in_year):\n",
        "                date = start_date + timedelta(days=day)\n",
        "                all_data.append({\n",
        "                    'date': date.strftime('%Y-%m-%d'),\n",
        "                    'gdp_per_capita': gdp_per_capita\n",
        "                })\n",
        "\n",
        "\n",
        "    df = pd.DataFrame(all_data)\n",
        "    return df\n",
        "\n",
        "df_daily_gdp_per_capita = generate_daily_gdp_per_capita(2017, 2021)\n",
        "df_daily_gdp_per_capita.to_csv('gdp_per_capita_daily_2017_2021.csv', index=False)\n",
        "\n",
        "print(\"Результаты сохранены в файл 'gdp_per_capita_daily_2017_2021.csv'\")\n"
      ]
    },
    {
      "cell_type": "markdown",
      "metadata": {
        "id": "2KNFrzbAo-AW"
      },
      "source": [
        "индекс потребительского доверия"
      ]
    },
    {
      "cell_type": "code",
      "execution_count": 10,
      "metadata": {
        "colab": {
          "base_uri": "https://localhost:8080/"
        },
        "id": "c4PdWOlQpFA8",
        "outputId": "b08d6ddc-4b8a-4552-c885-a32684a80b16"
      },
      "outputs": [
        {
          "name": "stdout",
          "output_type": "stream",
          "text": [
            "Данные успешно записаны в файл 'consumer_expenses_daily_2017_2021.csv'.\n"
          ]
        }
      ],
      "source": [
        "url = \"http://api.worldbank.org/v2/country/RU/indicator/NE.CON.TOTL.ZS?date=2017:2021&format=json\"\n",
        "\n",
        "response = requests.get(url)\n",
        "\n",
        "if response.status_code == 200:\n",
        "    data = response.json()\n",
        "\n",
        "    if len(data) > 1 and len(data[1]) > 0:\n",
        "\n",
        "        result = []\n",
        "\n",
        "\n",
        "        for record in data[1]:\n",
        "            year = str(record['date'])\n",
        "            value = record['value']\n",
        "\n",
        "\n",
        "            start_date = datetime.strptime(year, \"%Y\")\n",
        "            days_in_year = 366 if (start_date.year % 4 == 0 and (start_date.year % 100 != 0 or start_date.year % 400 == 0)) else 365\n",
        "\n",
        "            for day in range(days_in_year):\n",
        "                date = start_date + timedelta(days=day)\n",
        "                result.append([date.strftime(\"%Y-%m-%d\"), value])\n",
        "\n",
        "\n",
        "        consumer_expenses_df = pd.DataFrame(result, columns=['date', 'consumer_confidence_index'])\n",
        "        consumer_expenses_df.to_csv('consumer_expenses_daily_2017_2021.csv', index=False, encoding='utf-8')\n",
        "\n",
        "        print(\"Данные успешно записаны в файл 'consumer_expenses_daily_2017_2021.csv'.\")\n",
        "    else:\n",
        "        print(\"Данные для указанного индикатора и периода не найдены.\")\n",
        "else:\n",
        "    print(f\"Ошибка при получении данных: {response.status_code}\")\n"
      ]
    },
    {
      "cell_type": "markdown",
      "metadata": {
        "id": "SXOSXwv5q9Dy"
      },
      "source": [
        "# **Социальные и демографические**"
      ]
    },
    {
      "cell_type": "markdown",
      "metadata": {
        "id": "LPs9tRz7rGXM"
      },
      "source": [
        "плотность населения"
      ]
    },
    {
      "cell_type": "code",
      "execution_count": 11,
      "metadata": {
        "colab": {
          "base_uri": "https://localhost:8080/"
        },
        "id": "XOUapFxErF6D",
        "outputId": "38c53166-9785-4fab-ca05-23e0dcc8b222"
      },
      "outputs": [
        {
          "name": "stdout",
          "output_type": "stream",
          "text": [
            "Результаты сохранены в файл 'population_density_daily_2017_2021.csv'\n"
          ]
        }
      ],
      "source": [
        "def get_population_density(year):\n",
        "    url = f\"http://api.worldbank.org/v2/country/RU/indicator/EN.POP.DNST?date={year}&format=json\"\n",
        "    response = requests.get(url)\n",
        "    if response.status_code == 200:\n",
        "        data = response.json()\n",
        "        for entry in data[1]:\n",
        "            if entry['date'] == str(year):\n",
        "                return entry['value']\n",
        "    return None\n",
        "\n",
        "def generate_daily_population_density(start_year, end_year):\n",
        "    all_data = []\n",
        "\n",
        "\n",
        "    for year in range(start_year, end_year + 1):\n",
        "        population_density = get_population_density(year)\n",
        "        if population_density is not None:\n",
        "\n",
        "            is_leap_year = (year % 4 == 0 and (year % 100 != 0 or year % 400 == 0))\n",
        "            days_in_year = 366 if is_leap_year else 365\n",
        "\n",
        "            start_date = datetime(year, 1, 1)\n",
        "            for day in range(days_in_year):\n",
        "                date = start_date + timedelta(days=day)\n",
        "                all_data.append({\n",
        "                    'date': date.strftime('%Y-%m-%d'),\n",
        "                    'population_density': population_density\n",
        "                })\n",
        "\n",
        "\n",
        "    df = pd.DataFrame(all_data)\n",
        "    return df\n",
        "\n",
        "\n",
        "df_daily_population_density = generate_daily_population_density(2017, 2021)\n",
        "df_daily_population_density.to_csv('population_density_daily_2017_2021.csv', index=False)\n",
        "\n",
        "print(\"Результаты сохранены в файл 'population_density_daily_2017_2021.csv'\")\n"
      ]
    },
    {
      "cell_type": "markdown",
      "metadata": {
        "id": "LhVwIHYmsTG2"
      },
      "source": [
        "Возрастная структура населения"
      ]
    },
    {
      "cell_type": "code",
      "execution_count": 12,
      "metadata": {
        "colab": {
          "base_uri": "https://localhost:8080/"
        },
        "id": "pX9NgIQLsaCF",
        "outputId": "4bce80b9-4c49-4c87-9160-5f833ddd3f9d"
      },
      "outputs": [
        {
          "name": "stdout",
          "output_type": "stream",
          "text": [
            "Результаты сохранены в файл 'age_structure_daily_2017_2021.csv'\n"
          ]
        }
      ],
      "source": [
        "def get_age_structure(year):\n",
        "    indicators = {\n",
        "        '0-14': 'SP.POP.0014.TO.ZS',  # Доля населения 0-14 лет\n",
        "        '15-64': 'SP.POP.1564.TO.ZS',  # Доля населения 15-64 лет\n",
        "        '65+': 'SP.POP.65UP.TO.ZS'     # Доля населения 65+\n",
        "    }\n",
        "    data = {}\n",
        "    for age_group, indicator in indicators.items():\n",
        "        url = f\"http://api.worldbank.org/v2/country/RU/indicator/{indicator}?date={year}&format=json\"\n",
        "        response = requests.get(url)\n",
        "        if response.status_code == 200:\n",
        "            result = response.json()\n",
        "            for entry in result[1]:\n",
        "                if entry['date'] == str(year):\n",
        "                    data[age_group] = entry['value']\n",
        "        else:\n",
        "            data[age_group] = None\n",
        "    return data\n",
        "\n",
        "\n",
        "def generate_daily_age_structure(start_year, end_year):\n",
        "    all_data = []\n",
        "\n",
        "\n",
        "    for year in range(start_year, end_year + 1):\n",
        "        age_structure = get_age_structure(year)\n",
        "        if age_structure:\n",
        "\n",
        "            is_leap_year = (year % 4 == 0 and (year % 100 != 0 or year % 400 == 0))\n",
        "            days_in_year = 366 if is_leap_year else 365\n",
        "\n",
        "\n",
        "            start_date = datetime(year, 1, 1)\n",
        "            for day in range(days_in_year):\n",
        "                date = start_date + timedelta(days=day)\n",
        "                all_data.append({\n",
        "                    'date': date.strftime('%Y-%m-%d'),\n",
        "                    'age_0_14': age_structure.get('0-14'),\n",
        "                    'age_15_64': age_structure.get('15-64'),\n",
        "                    'age_65_plus': age_structure.get('65+')\n",
        "                })\n",
        "\n",
        "\n",
        "    df = pd.DataFrame(all_data)\n",
        "    return df\n",
        "\n",
        "\n",
        "df_daily_age_structure = generate_daily_age_structure(2017, 2021)\n",
        "df_daily_age_structure.to_csv('age_structure_daily_2017_2021.csv', index=False)\n",
        "\n",
        "print(\"Результаты сохранены в файл 'age_structure_daily_2017_2021.csv'\")\n"
      ]
    },
    {
      "cell_type": "markdown",
      "metadata": {
        "id": "4XyLNmjssn3k"
      },
      "source": [
        "миграционный баланс"
      ]
    },
    {
      "cell_type": "code",
      "execution_count": 13,
      "metadata": {
        "colab": {
          "base_uri": "https://localhost:8080/"
        },
        "id": "bKJMfpJeswLt",
        "outputId": "8b7140af-577b-4720-90de-f86a41a9498b"
      },
      "outputs": [
        {
          "name": "stdout",
          "output_type": "stream",
          "text": [
            "Результаты сохранены в файл 'migration_balance_daily_2017_2021.csv'\n"
          ]
        }
      ],
      "source": [
        "def get_migration_balance(year):\n",
        "    url = f\"http://api.worldbank.org/v2/country/RU/indicator/SM.POP.NETM?date={year}&format=json\"\n",
        "    response = requests.get(url)\n",
        "    if response.status_code == 200:\n",
        "        data = response.json()\n",
        "        for entry in data[1]:\n",
        "            if entry['date'] == str(year):\n",
        "                return entry['value']\n",
        "    return None\n",
        "\n",
        "\n",
        "def generate_daily_migration_balance(start_year, end_year):\n",
        "    all_data = []\n",
        "\n",
        "\n",
        "    for year in range(start_year, end_year + 1):\n",
        "        migration_balance = get_migration_balance(year)\n",
        "        if migration_balance is not None:\n",
        "\n",
        "            is_leap_year = (year % 4 == 0 and (year % 100 != 0 or year % 400 == 0))\n",
        "            days_in_year = 366 if is_leap_year else 365\n",
        "\n",
        "\n",
        "            start_date = datetime(year, 1, 1)\n",
        "            for day in range(days_in_year):\n",
        "                date = start_date + timedelta(days=day)\n",
        "                all_data.append({\n",
        "                    'date': date.strftime('%Y-%m-%d'),\n",
        "                    'migration_balance': migration_balance\n",
        "                })\n",
        "\n",
        "\n",
        "    df = pd.DataFrame(all_data)\n",
        "    return df\n",
        "\n",
        "\n",
        "df_daily_migration_balance = generate_daily_migration_balance(2017, 2021)\n",
        "df_daily_migration_balance.to_csv('migration_balance_daily_2017_2021.csv', index=False)\n",
        "\n",
        "print(\"Результаты сохранены в файл 'migration_balance_daily_2017_2021.csv'\")\n"
      ]
    },
    {
      "cell_type": "markdown",
      "metadata": {
        "id": "zNZJFBcks-NX"
      },
      "source": [
        "Уровень цифровизации"
      ]
    },
    {
      "cell_type": "code",
      "execution_count": 14,
      "metadata": {
        "colab": {
          "base_uri": "https://localhost:8080/"
        },
        "id": "HohSrmEdtDSV",
        "outputId": "a8c7000e-4ec0-4694-e368-f64a30eb6400"
      },
      "outputs": [
        {
          "name": "stdout",
          "output_type": "stream",
          "text": [
            "            date  digitalization_level\n",
            "0     2017-01-01                  76.0\n",
            "1     2017-01-02                  76.0\n",
            "2     2017-01-03                  76.0\n",
            "3     2017-01-04                  76.0\n",
            "4     2017-01-05                  76.0\n",
            "...          ...                   ...\n",
            "1821  2021-12-27                  88.2\n",
            "1822  2021-12-28                  88.2\n",
            "1823  2021-12-29                  88.2\n",
            "1824  2021-12-30                  88.2\n",
            "1825  2021-12-31                  88.2\n",
            "\n",
            "[1826 rows x 2 columns]\n",
            "Результаты сохранены в файл 'digitalization_level_daily_2017_2021.csv'\n"
          ]
        }
      ],
      "source": [
        "def get_digitalization_level(year):\n",
        "    url = f\"http://api.worldbank.org/v2/country/RU/indicator/IT.NET.USER.ZS?date={year}&format=json\"\n",
        "    response = requests.get(url)\n",
        "    if response.status_code == 200:\n",
        "        data = response.json()\n",
        "        for entry in data[1]:\n",
        "            if entry['date'] == str(year):\n",
        "                return entry['value']\n",
        "    return None\n",
        "\n",
        "\n",
        "def generate_daily_digitalization_level(start_year, end_year):\n",
        "    all_data = []\n",
        "\n",
        "\n",
        "    for year in range(start_year, end_year + 1):\n",
        "        digitalization_level = get_digitalization_level(year)\n",
        "        if digitalization_level is not None:\n",
        "\n",
        "            is_leap_year = (year % 4 == 0 and (year % 100 != 0 or year % 400 == 0))\n",
        "            days_in_year = 366 if is_leap_year else 365\n",
        "            start_date = datetime(year, 1, 1)\n",
        "            for day in range(days_in_year):\n",
        "                date = start_date + timedelta(days=day)\n",
        "                all_data.append({\n",
        "                    'date': date.strftime('%Y-%m-%d'),\n",
        "                    'digitalization_level': digitalization_level\n",
        "                })\n",
        "\n",
        "\n",
        "    df = pd.DataFrame(all_data)\n",
        "    return df\n",
        "\n",
        "\n",
        "df_daily_digitalization_level = generate_daily_digitalization_level(2017, 2021)\n",
        "df_daily_digitalization_level.to_csv('digitalization_level_daily_2017_2021.csv', index=False)\n",
        "print(df_daily_digitalization_level)\n",
        "print(\"Результаты сохранены в файл 'digitalization_level_daily_2017_2021.csv'\")\n"
      ]
    },
    {
      "cell_type": "markdown",
      "metadata": {
        "id": "_oHoMrBQ9bR_"
      },
      "source": [
        "рабочий календарь + налоговый\n"
      ]
    },
    {
      "cell_type": "code",
      "execution_count": 15,
      "metadata": {
        "colab": {
          "base_uri": "https://localhost:8080/"
        },
        "id": "kPDY5Joy9edm",
        "outputId": "a1be7a90-ecd3-4c62-f553-d0a806c0b2de"
      },
      "outputs": [
        {
          "name": "stdout",
          "output_type": "stream",
          "text": [
            "Обработка 2017 года...\n",
            "Обработка 2018 года...\n",
            "Обработка 2019 года...\n",
            "Обработка 2020 года...\n",
            "Обработка 2021 года...\n"
          ]
        }
      ],
      "source": [
        "from datetime import date, timedelta\n",
        "START_YEAR = 2017\n",
        "END_YEAR = 2021\n",
        "\n",
        "# Добавим новые налоги в список\n",
        "TAX_TYPES = [\n",
        "    \"НДС\", \"НДФЛ\", \"Страховые взносы\",\n",
        "    \"Акцизы\", \"Налог на имущество организаций\",\n",
        "    \"Транспортный налог\", \"Налог на землю\",\n",
        "    \"Налог на прибыль\"\n",
        "]\n",
        "\n",
        "# Встроенные налоговые события (можно расширять)\n",
        "TAX_EVENTS = {\n",
        "    \"2017-01-25\": [\"НДФЛ\", \"НДС\"],\n",
        "    \"2017-02-15\": [\"Страховые взносы\"],\n",
        "    \"2017-04-28\": [\"НДФЛ\", \"НДС\"],\n",
        "    \"2017-05-01\": [\"Акцизы\"],\n",
        "    \"2017-10-10\": [\"Налог на имущество организаций\"],\n",
        "    \"2018-01-25\": [\"НДФЛ\", \"НДС\"],\n",
        "    \"2018-02-15\": [\"Налог на землю\"],\n",
        "    \"2019-04-25\": [\"НДС\"],\n",
        "    \"2019-07-01\": [\"Транспортный налог\"],\n",
        "    \"2020-07-15\": [\"НДФЛ\"],\n",
        "    \"2021-03-15\": [\"НДФЛ\", \"Страховые взносы\", \"Налог на прибыль\"],\n",
        "}\n",
        "\n",
        "def fetch_calendar(year):\n",
        "    url = f\"https://isdayoff.ru/api/getdata?year={year}&pre=1\"\n",
        "    response = requests.get(url)\n",
        "    if response.status_code != 200:\n",
        "        raise Exception(f\"Ошибка при запросе к API за {year} год: {response.status_code}\")\n",
        "    return response.text\n",
        "\n",
        "def get_tax_info_for_date(date_str):\n",
        "    taxes_today = TAX_EVENTS.get(date_str, [])\n",
        "    return {tax: int(tax in taxes_today) for tax in TAX_TYPES}\n",
        "\n",
        "def create_calendar_dataframe():\n",
        "    rows = []\n",
        "\n",
        "    for year in range(START_YEAR, END_YEAR + 1):\n",
        "        print(f\"Обработка {year} года...\")\n",
        "        calendar_data = fetch_calendar(year)\n",
        "        start_date = date(year, 1, 1)\n",
        "\n",
        "        for i, status in enumerate(calendar_data):\n",
        "            current_date = start_date + timedelta(days=i)\n",
        "            current_date_str = str(current_date)\n",
        "\n",
        "            day_type = \"Рабочий\" if status == \"0\" else \"Выходной\"\n",
        "            is_working = 1 if status == \"0\" else 0\n",
        "\n",
        "            tax_info = get_tax_info_for_date(current_date_str)\n",
        "            row = {\n",
        "                \"date\": current_date_str,\n",
        "                \"Тип дня\": day_type,\n",
        "                \"Рабочий день (1/0)\": is_working,\n",
        "                **tax_info\n",
        "            }\n",
        "            rows.append(row)\n",
        "\n",
        "    df = pd.DataFrame(rows)\n",
        "    return df\n",
        "\n",
        "calendar_df = create_calendar_dataframe()\n",
        "calendar_df.to_csv(\"calendar_with_taxes.csv\", index=False, encoding=\"utf-8\")\n"
      ]
    },
    {
      "cell_type": "markdown",
      "metadata": {
        "id": "DBHABOmTBTdI"
      },
      "source": []
    },
    {
      "cell_type": "code",
      "execution_count": 17,
      "metadata": {
        "colab": {
          "base_uri": "https://localhost:8080/"
        },
        "id": "7-L9rvzfASGn",
        "outputId": "a9bc1c98-c032-4666-a30d-fc331aae0880"
      },
      "outputs": [
        {
          "name": "stdout",
          "output_type": "stream",
          "text": [
            "object\n",
            "         date    income   outcome   balance\n",
            "0  2017-01-09  1.343028  1.487865 -0.144836\n",
            "1  2017-01-10  1.068610  1.194182 -0.125572\n",
            "2  2017-01-11  0.944429  0.936663  0.007767\n",
            "3  2017-01-12  1.672202  0.875379  0.796823\n",
            "4  2017-01-13  0.955924  0.975645 -0.019721\n"
          ]
        }
      ],
      "source": [
        "proj_file = pd.read_excel('../Project 2_2023.xlsx')\n",
        "proj_file = proj_file.drop('Unnamed: 0', axis=1)\n",
        "proj_file['date'] = pd.to_datetime(proj_file['date'])\n",
        "proj_file['date'] = proj_file['date'].dt.strftime('%Y-%m-%d')\n",
        "\n",
        "print(proj_file['date'].dtype)\n",
        "print(proj_file.head())\n"
      ]
    },
    {
      "cell_type": "markdown",
      "metadata": {
        "id": "F-jHu5J8tTP8"
      },
      "source": [
        "# Объединение в один DF"
      ]
    },
    {
      "cell_type": "code",
      "execution_count": 23,
      "metadata": {},
      "outputs": [
        {
          "data": {
            "text/html": [
              "<div>\n",
              "<style scoped>\n",
              "    .dataframe tbody tr th:only-of-type {\n",
              "        vertical-align: middle;\n",
              "    }\n",
              "\n",
              "    .dataframe tbody tr th {\n",
              "        vertical-align: top;\n",
              "    }\n",
              "\n",
              "    .dataframe thead th {\n",
              "        text-align: right;\n",
              "    }\n",
              "</style>\n",
              "<table border=\"1\" class=\"dataframe\">\n",
              "  <thead>\n",
              "    <tr style=\"text-align: right;\">\n",
              "      <th></th>\n",
              "      <th>date</th>\n",
              "      <th>CLOSE</th>\n",
              "    </tr>\n",
              "  </thead>\n",
              "  <tbody>\n",
              "    <tr>\n",
              "      <th>0</th>\n",
              "      <td>2017-01-01</td>\n",
              "      <td>0.00</td>\n",
              "    </tr>\n",
              "    <tr>\n",
              "      <th>1</th>\n",
              "      <td>2017-01-02</td>\n",
              "      <td>0.00</td>\n",
              "    </tr>\n",
              "    <tr>\n",
              "      <th>2</th>\n",
              "      <td>2017-01-03</td>\n",
              "      <td>2285.43</td>\n",
              "    </tr>\n",
              "    <tr>\n",
              "      <th>3</th>\n",
              "      <td>2017-01-04</td>\n",
              "      <td>2263.90</td>\n",
              "    </tr>\n",
              "    <tr>\n",
              "      <th>4</th>\n",
              "      <td>2017-01-05</td>\n",
              "      <td>2220.35</td>\n",
              "    </tr>\n",
              "    <tr>\n",
              "      <th>...</th>\n",
              "      <td>...</td>\n",
              "      <td>...</td>\n",
              "    </tr>\n",
              "    <tr>\n",
              "      <th>1821</th>\n",
              "      <td>2021-12-27</td>\n",
              "      <td>3740.63</td>\n",
              "    </tr>\n",
              "    <tr>\n",
              "      <th>1822</th>\n",
              "      <td>2021-12-28</td>\n",
              "      <td>3777.56</td>\n",
              "    </tr>\n",
              "    <tr>\n",
              "      <th>1823</th>\n",
              "      <td>2021-12-29</td>\n",
              "      <td>3741.07</td>\n",
              "    </tr>\n",
              "    <tr>\n",
              "      <th>1824</th>\n",
              "      <td>2021-12-30</td>\n",
              "      <td>3787.26</td>\n",
              "    </tr>\n",
              "    <tr>\n",
              "      <th>1825</th>\n",
              "      <td>2021-12-31</td>\n",
              "      <td>0.00</td>\n",
              "    </tr>\n",
              "  </tbody>\n",
              "</table>\n",
              "<p>1826 rows × 2 columns</p>\n",
              "</div>"
            ],
            "text/plain": [
              "            date    CLOSE\n",
              "0     2017-01-01     0.00\n",
              "1     2017-01-02     0.00\n",
              "2     2017-01-03  2285.43\n",
              "3     2017-01-04  2263.90\n",
              "4     2017-01-05  2220.35\n",
              "...          ...      ...\n",
              "1821  2021-12-27  3740.63\n",
              "1822  2021-12-28  3777.56\n",
              "1823  2021-12-29  3741.07\n",
              "1824  2021-12-30  3787.26\n",
              "1825  2021-12-31     0.00\n",
              "\n",
              "[1826 rows x 2 columns]"
            ]
          },
          "execution_count": 23,
          "metadata": {},
          "output_type": "execute_result"
        }
      ],
      "source": [
        "full_df"
      ]
    },
    {
      "cell_type": "code",
      "execution_count": 24,
      "metadata": {
        "colab": {
          "base_uri": "https://localhost:8080/"
        },
        "id": "Fof0IiWhtX7F",
        "outputId": "79d59b7f-56a8-4ee2-e247-3eb3013731c0"
      },
      "outputs": [
        {
          "name": "stdout",
          "output_type": "stream",
          "text": [
            "False\n",
            "False\n",
            "False\n",
            "False\n",
            "False\n",
            "False\n",
            "False\n",
            "False\n",
            "False\n",
            "True\n",
            "True\n",
            "            date    income   outcome   balance  Тип дня  Рабочий день (1/0)  \\\n",
            "0     2017-01-09  1.343028  1.487865 -0.144836  Рабочий                   1   \n",
            "1     2017-01-10  1.068610  1.194182 -0.125572  Рабочий                   1   \n",
            "2     2017-01-11  0.944429  0.936663  0.007767  Рабочий                   1   \n",
            "3     2017-01-12  1.672202  0.875379  0.796823  Рабочий                   1   \n",
            "4     2017-01-13  0.955924  0.975645 -0.019721  Рабочий                   1   \n",
            "...          ...       ...       ...       ...      ...                 ...   \n",
            "1095  2021-03-25  2.304215  3.173234 -0.869018  Рабочий                   1   \n",
            "1096  2021-03-26  2.172546  4.687433 -2.514887  Рабочий                   1   \n",
            "1097  2021-03-29  2.356883  3.370738 -1.013855  Рабочий                   1   \n",
            "1098  2021-03-30  2.317382  2.567554 -0.250172  Рабочий                   1   \n",
            "1099  2021-03-31  2.528054  2.528054  0.000000  Рабочий                   1   \n",
            "\n",
            "      НДС  НДФЛ  Страховые взносы  Акцизы  ...  age_15_64  age_65_plus  \\\n",
            "0       0     0                 0       0  ...  68.300922    14.240929   \n",
            "1       0     0                 0       0  ...  68.300922    14.240929   \n",
            "2       0     0                 0       0  ...  68.300922    14.240929   \n",
            "3       0     0                 0       0  ...  68.300922    14.240929   \n",
            "4       0     0                 0       0  ...  68.300922    14.240929   \n",
            "...   ...   ...               ...     ...  ...        ...          ...   \n",
            "1095    0     0                 0       0  ...  66.546119    15.733399   \n",
            "1096    0     0                 0       0  ...  66.546119    15.733399   \n",
            "1097    0     0                 0       0  ...  66.546119    15.733399   \n",
            "1098    0     0                 0       0  ...  66.546119    15.733399   \n",
            "1099    0     0                 0       0  ...  66.546119    15.733399   \n",
            "\n",
            "      population_density  consumer_confidence_index  gdp_per_capita  \\\n",
            "0               8.871858                  71.088007    10658.913086   \n",
            "1               8.871858                  71.088007    10658.913086   \n",
            "2               8.871858                  71.088007    10658.913086   \n",
            "3               8.871858                  71.088007    10658.913086   \n",
            "4               8.871858                  71.088007    10658.913086   \n",
            "...                  ...                        ...             ...   \n",
            "1095            8.838488                  67.066121    12521.522461   \n",
            "1096            8.838488                  67.066121    12521.522461   \n",
            "1097            8.838488                  67.066121    12521.522461   \n",
            "1098            8.838488                  67.066121    12521.522461   \n",
            "1099            8.838488                  67.066121    12521.522461   \n",
            "\n",
            "      unemployment_rate  trade_balance  inflation_rate    CLOSE   USD_Rate  \n",
            "0                 5.238   8.351502e+10        3.683329  2211.25  59.564999  \n",
            "1                 5.238   8.351502e+10        3.683329  2237.49  60.102501  \n",
            "2                 5.238   8.351502e+10        3.683329  2218.61  60.139999  \n",
            "3                 5.238   8.351502e+10        3.683329  2212.00  59.778099  \n",
            "4                 5.238   8.351502e+10        3.683329  2195.19  59.432499  \n",
            "...                 ...            ...             ...      ...        ...  \n",
            "1095              4.749   1.722832e+11        6.694459  3439.30  76.616203  \n",
            "1096              4.749   1.722832e+11        6.694459  3489.83  76.117104  \n",
            "1097              4.749   1.722832e+11        6.694459  3529.33  75.661102  \n",
            "1098              4.749   1.722832e+11        6.694459  3525.23  75.654602  \n",
            "1099              4.749   1.722832e+11        6.694459  3541.72  75.903999  \n",
            "\n",
            "[1100 rows x 26 columns]\n"
          ]
        }
      ],
      "source": [
        "\n",
        "df_combined = pd.merge(proj_file,calendar_df, on='date')\n",
        "df_combined = pd.merge(df_combined,df_daily_digitalization_level, on='date')\n",
        "df_combined = pd.merge(df_combined, df_daily_age_structure, on='date')\n",
        "df_combined = pd.merge(df_combined, df_daily_population_density, on='date')\n",
        "df_combined = pd.merge(df_combined, consumer_expenses_df , on='date')\n",
        "df_combined = pd.merge(df_combined, df_daily_gdp_per_capita , on='date')\n",
        "df_combined = pd.merge(df_combined, df_daily_unemployment_rate , on='date')\n",
        "df_combined = pd.merge(df_combined, df_daily_trade_balance , on='date')\n",
        "df_combined = pd.merge(df_combined, df_daily_inflation_rate , on='date')\n",
        "df_combined = pd.merge(df_combined, full_df , on='date')\n",
        "df_combined = pd.merge(df_combined, df_data , on='date')\n",
        "df_combined.to_csv(\"final.csv\", index=False, encoding=\"utf-8\")\n",
        "print(df_combined)\n"
      ]
    },
    {
      "cell_type": "code",
      "execution_count": 64,
      "metadata": {
        "id": "UMqM-Z78Vakd"
      },
      "outputs": [],
      "source": []
    }
  ],
  "metadata": {
    "colab": {
      "provenance": []
    },
    "kernelspec": {
      "display_name": "Python 3",
      "name": "python3"
    },
    "language_info": {
      "codemirror_mode": {
        "name": "ipython",
        "version": 3
      },
      "file_extension": ".py",
      "mimetype": "text/x-python",
      "name": "python",
      "nbconvert_exporter": "python",
      "pygments_lexer": "ipython3",
      "version": "3.9.6"
    }
  },
  "nbformat": 4,
  "nbformat_minor": 0
}
