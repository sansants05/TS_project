{
 "cells": [
  {
   "cell_type": "code",
   "execution_count": 1,
   "metadata": {},
   "outputs": [],
   "source": [
    "import pandas as pd\n",
    "import sys\n",
    "sys.path.append('../')\n",
    "\n",
    "from TS_model.feature_engeneering import FeatureEngineer\n",
    "\n",
    "%load_ext autoreload\n",
    "%autoreload 2"
   ]
  },
  {
   "cell_type": "code",
   "execution_count": 2,
   "metadata": {},
   "outputs": [],
   "source": [
    "# # пересчет баланса \n",
    "# data = pd.read_excel('../Project 2_2023.xlsx', parse_dates=True, index_col=0)\n",
    "# data.columns = data.columns.str.lower()\n",
    "# data['balance'] = data['income'] - data['outcome']\n",
    "# data.to_excel('../Project 2_2023.xlsx')"
   ]
  },
  {
   "cell_type": "code",
   "execution_count": 3,
   "metadata": {},
   "outputs": [],
   "source": [
    "# добавление фичей \n",
    "data = pd.read_csv('../Data/final.csv', parse_dates=['date'])\n",
    "data.columns = data.columns.str.lower()\n",
    "data['date'] = pd.to_datetime(data['date'])\n",
    "\n",
    "macro_cols = [\n",
    "    'digitalization_level', 'age_0_14', 'age_15_64', 'age_65_plus',\n",
    "    'population_density', 'consumer_confidence_index', 'gdp_per_capita',\n",
    "    'unemployment_rate', 'trade_balance', 'inflation_rate', 'close', 'usd_rate'\n",
    "]\n",
    "macro_df = data.set_index('date')[macro_cols]"
   ]
  },
  {
   "cell_type": "code",
   "execution_count": 4,
   "metadata": {},
   "outputs": [],
   "source": [
    "# добавление налоговых дат \n",
    "tax_dates_dict = {\n",
    "    \"2017-01-25\": [\"НДФЛ\", \"НДС\"],\n",
    "    \"2017-02-15\": [\"Страховые взносы\"],\n",
    "    \"2017-04-28\": [\"НДФЛ\", \"НДС\"],\n",
    "    \"2017-05-01\": [\"Акцизы\"],\n",
    "    \"2017-10-10\": [\"Налог на имущество организаций\"],\n",
    "    \"2018-01-25\": [\"НДФЛ\", \"НДС\"],\n",
    "    \"2018-02-15\": [\"Налог на землю\"],\n",
    "    \"2019-04-25\": [\"НДС\"],\n",
    "    \"2019-07-01\": [\"Транспортный налог\"],\n",
    "    \"2020-07-15\": [\"НДФЛ\"],\n",
    "    \"2021-03-15\": [\"НДФЛ\", \"Страховые взносы\", \"Налог на прибыль\"],\n",
    "}\n",
    "\n",
    "\n",
    "tax_dates = list(tax_dates_dict.keys())\n",
    "tax_dates = pd.to_datetime(tax_dates)"
   ]
  },
  {
   "cell_type": "code",
   "execution_count": 5,
   "metadata": {},
   "outputs": [],
   "source": [
    "feature_extactor = FeatureEngineer(data, date_col='date')"
   ]
  },
  {
   "cell_type": "code",
   "execution_count": 6,
   "metadata": {},
   "outputs": [
    {
     "name": "stderr",
     "output_type": "stream",
     "text": [
      "/Users/legornevas/Desktop/TS_project/TS_project/notebooks/../TS_model/feature_engeneering.py:82: FutureWarning: DataFrame.fillna with 'method' is deprecated and will raise in a future version. Use obj.ffill() or obj.bfill() instead.\n",
      "  self.features.fillna(method='ffill', inplace=True)\n"
     ]
    }
   ],
   "source": [
    "feature_extactor = (\n",
    "    feature_extactor.add_lag_features(lags=[1, 2, 3, 7])\n",
    "      .add_rolling_features(windows=[3, 7, 30])\n",
    "      .add_seasonal_features()\n",
    "      .add_macro_features(macro_df)\n",
    ")\n",
    "\n",
    "\n",
    "feature_extactor = feature_extactor.add_special_dates(tax_dates)"
   ]
  },
  {
   "cell_type": "code",
   "execution_count": 7,
   "metadata": {},
   "outputs": [],
   "source": [
    "x, y = feature_extactor.get_feature_df()"
   ]
  },
  {
   "cell_type": "code",
   "execution_count": 8,
   "metadata": {},
   "outputs": [],
   "source": [
    "data = pd.concat([x, y], axis=1)\n",
    "data.to_excel('../Data/full_features_data.xlsx')"
   ]
  }
 ],
 "metadata": {
  "kernelspec": {
   "display_name": "ts_env",
   "language": "python",
   "name": "python3"
  },
  "language_info": {
   "codemirror_mode": {
    "name": "ipython",
    "version": 3
   },
   "file_extension": ".py",
   "mimetype": "text/x-python",
   "name": "python",
   "nbconvert_exporter": "python",
   "pygments_lexer": "ipython3",
   "version": "3.9.6"
  }
 },
 "nbformat": 4,
 "nbformat_minor": 2
}
